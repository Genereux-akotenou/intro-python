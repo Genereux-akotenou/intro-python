{
 "cells": [
  {
   "cell_type": "markdown",
   "metadata": {},
   "source": [
    "# Datatypes exercises"
   ]
  },
  {
   "cell_type": "markdown",
   "metadata": {},
   "source": [
    "## Exercise 1"
   ]
  },
  {
   "cell_type": "markdown",
   "metadata": {},
   "source": [
    "Write the following mathematical formula in Python:\n",
    "\n",
    "\\begin{align}\n",
    " result = 6a^3 - \\frac{8b^2 }{4c} + 11\n",
    "\\end{align}\n",
    "\n",
    "```python\n",
    "a = 2\n",
    "b = 3\n",
    "c = 2\n",
    "```\n",
    "\n",
    "> write your formula as \n",
    "```python\n",
    "result = \n",
    "```\n",
    "\n",
    "It must verify\n",
    "```python\n",
    ">>> assert result == 50"
   ]
  },
  {
   "cell_type": "code",
   "execution_count": null,
   "metadata": {},
   "outputs": [],
   "source": [
    "a = 2\n",
    "b = 3\n",
    "c = 2\n",
    "\n",
    "result = 6*(a**3) - ((8*(b**2)) / (4*c)) + 11"
   ]
  },
  {
   "cell_type": "code",
   "execution_count": null,
   "metadata": {},
   "outputs": [],
   "source": [
    "assert result == 50"
   ]
  },
  {
   "cell_type": "markdown",
   "metadata": {},
   "source": [
    "## Exercise 2"
   ]
  },
  {
   "cell_type": "markdown",
   "metadata": {},
   "source": [
    "Explain why the folowing assertion fails"
   ]
  },
  {
   "cell_type": "code",
   "execution_count": null,
   "metadata": {},
   "outputs": [],
   "source": [
    "assert (0.1 + 0.2 == 0.3) # will cause assertion error"
   ]
  },
  {
   "cell_type": "markdown",
   "metadata": {},
   "source": [
    "## Exercise 3"
   ]
  },
  {
   "cell_type": "markdown",
   "metadata": {},
   "source": [
    "Write a function `sum_list` to sum all the items in a list"
   ]
  },
  {
   "cell_type": "code",
   "execution_count": null,
   "metadata": {},
   "outputs": [],
   "source": [
    "#Code Here\n",
    "def sum_list(l):\n",
    "    sum = 0;\n",
    "    for i in l:\n",
    "        sum += i\n",
    "    return sum\n",
    "\n",
    "assert sum_list([10, 20, -1]) == 29"
   ]
  },
  {
   "cell_type": "markdown",
   "metadata": {},
   "source": [
    "## Exercise 4"
   ]
  },
  {
   "cell_type": "markdown",
   "metadata": {},
   "source": [
    "Write a program that asks how long it took to run 10 km today. The program continues to ask how long (in minutes) it took for additional runs, until the user enters q. At that point, the program exits — but only after calculating and displaying the average time that the 10 km run took.  \n",
    "\n",
    "\n",
    "Example:\n",
    "```\n",
    "Enter 10 km run time: 15\n",
    "Enter 10 km run time: 20\n",
    "Enter 10 km run time: 10\n",
    "Enter 10 km run time: q\n",
    "\n",
    "Average of 15.0, over 3 runs\n",
    "```"
   ]
  },
  {
   "cell_type": "code",
   "execution_count": null,
   "metadata": {},
   "outputs": [],
   "source": [
    "import statistics"
   ]
  },
  {
   "cell_type": "code",
   "execution_count": null,
   "metadata": {},
   "outputs": [],
   "source": [
    "def mk_run_calculator():\n",
    "    value = 0;\n",
    "    values = []\n",
    "    while(True):\n",
    "        try:\n",
    "            value = input('Enter 10 km run time:')\n",
    "            values.append(int(value))\n",
    "        except:\n",
    "            if(value == 'q'):\n",
    "                break\n",
    "            else:\n",
    "                print('Not an integer')\n",
    "            \n",
    "    print(\"\\nAverage of {}, over {} runs\".format(statistics.mean(values), len(values)))"
   ]
  },
  {
   "cell_type": "code",
   "execution_count": null,
   "metadata": {},
   "outputs": [],
   "source": [
    "mk_run_calculator()"
   ]
  },
  {
   "cell_type": "markdown",
   "metadata": {},
   "source": [
    "## Exercise 5"
   ]
  },
  {
   "cell_type": "markdown",
   "metadata": {},
   "source": [
    "Write a function that takes a string and returns the sorted string."
   ]
  },
  {
   "cell_type": "code",
   "execution_count": null,
   "metadata": {},
   "outputs": [],
   "source": [
    "def sort_string(s):\n",
    "    array_string = list(s)\n",
    "    array_string = sorted(array_string)\n",
    "    return \"\".join(array_string)\n",
    "\n",
    "assert sort_string(\"cabaeb\") == \"aabbce\""
   ]
  },
  {
   "cell_type": "markdown",
   "metadata": {},
   "source": [
    "## Exercise 6"
   ]
  },
  {
   "cell_type": "markdown",
   "metadata": {},
   "source": [
    "Write a function that take a string of multiple words and returns the position of the word with most repeated letters"
   ]
  },
  {
   "cell_type": "code",
   "execution_count": 165,
   "metadata": {},
   "outputs": [],
   "source": [
    "from collections import Counter\n",
    "\n",
    "def wwmrl(s):\n",
    "    high_occurrence = []\n",
    "    for String in s:\n",
    "        letter_occurrence = Counter(String)\n",
    "        list_of_repeated_letter = [char for char, count in letter_occurrence.items() if count > 1]\n",
    "        high_occurrence.append(len(list_of_repeated_letter))\n",
    "    \n",
    "    return high_occurrence.index(max(high_occurrence))\n",
    "\n",
    "assert wwmrl(['this', 'is', 'an', 'elementary', 'test', 'example', 'aabbccddeeff', 'azertyuiopqsdfghjklm']) == 6"
   ]
  },
  {
   "cell_type": "markdown",
   "metadata": {},
   "source": [
    "## Exercise 7"
   ]
  },
  {
   "cell_type": "markdown",
   "metadata": {},
   "source": [
    "1. Create a tuple\n",
    "2. Unpack the tuple in multiple variables"
   ]
  },
  {
   "cell_type": "code",
   "execution_count": null,
   "metadata": {},
   "outputs": [],
   "source": [
    "rgb_tuple = (255, 100, 30)\n",
    "r, g, b = rgb_tuple"
   ]
  },
  {
   "cell_type": "code",
   "execution_count": null,
   "metadata": {},
   "outputs": [],
   "source": [
    "r"
   ]
  },
  {
   "cell_type": "markdown",
   "metadata": {},
   "source": [
    "## Exercise 8"
   ]
  },
  {
   "cell_type": "markdown",
   "metadata": {},
   "source": [
    "Write a Python program to sort a tuple by its float element.  \n",
    "Sample data: `[('item1', '12.20'), ('item2', '15.10'), ('item3', '24.5')]`  \n",
    "Expected Output: `[('item3', '24.5'), ('item2', '15.10'), ('item1', '12.20')]`"
   ]
  },
  {
   "cell_type": "code",
   "execution_count": null,
   "metadata": {},
   "outputs": [],
   "source": [
    "def sort_tuple_array(l):\n",
    "    values = [Tuple[1] for Tuple in l]\n",
    "    values.sort(reverse=True)\n",
    "    \n",
    "    sorted_list = list(range(len(l)))\n",
    "    for Tuple in l:\n",
    "        tuple_value = Tuple[1]\n",
    "        sorted_list[values.index(tuple_value)] = Tuple\n",
    "\n",
    "    return sorted_list\n",
    "    \n",
    "sort_tuple_array([('item1', '12.20'), ('item2', '15.10'), ('item3', '24.5')])"
   ]
  },
  {
   "cell_type": "markdown",
   "metadata": {},
   "source": [
    "## Exercise 9"
   ]
  },
  {
   "cell_type": "markdown",
   "metadata": {},
   "source": [
    "Write a Python script to concatenate dictionaries to create a new one."
   ]
  },
  {
   "cell_type": "code",
   "execution_count": null,
   "metadata": {},
   "outputs": [],
   "source": [
    "\"\"\"Sample Dictionary\"\"\"\n",
    "dic1={1:10, 2:20}\n",
    "dic2={3:30, 4:40}\n",
    "dic3={5:50,6:60}\n",
    "\"\"\"\"Expected Result : {1: 10, 2: 20, 3: 30, 4: 40, 5: 50, 6: 60}\"\"\""
   ]
  },
  {
   "cell_type": "code",
   "execution_count": null,
   "metadata": {},
   "outputs": [],
   "source": [
    "def dict_concat(l):\n",
    "    dict = {}\n",
    "    for Dict in l:\n",
    "        dict.update(Dict)\n",
    "    return dict"
   ]
  },
  {
   "cell_type": "code",
   "execution_count": null,
   "metadata": {},
   "outputs": [],
   "source": [
    "dic1={1:10, 2:20}\n",
    "dic2={3:30, 4:40}\n",
    "dic3={5:50,6:60}\n",
    "dict_concat([dic1, dic2, dic3])"
   ]
  },
  {
   "cell_type": "markdown",
   "metadata": {},
   "source": [
    "## Exercise 10"
   ]
  },
  {
   "cell_type": "markdown",
   "metadata": {},
   "source": [
    "Write a Python program to combine two dictionary adding values for common keys."
   ]
  },
  {
   "cell_type": "code",
   "execution_count": null,
   "metadata": {},
   "outputs": [],
   "source": [
    "d1 = {'a': 100, 'b': 200, 'c':300}\n",
    "d2 = {'a': 300, 'b': 200, 'd':400}\n",
    "\"\"\"\"Sample output: {'a': 400, 'b': 400, 'd': 400, 'c': 300}\"\"\""
   ]
  },
  {
   "cell_type": "code",
   "execution_count": null,
   "metadata": {},
   "outputs": [],
   "source": [
    "def dict_merge_with_sum(l):\n",
    "    dict = {}\n",
    "    \n",
    "    for Dict in l:\n",
    "        for key in Dict.keys():\n",
    "            if (key in dict.keys()):\n",
    "                dict[key] = dict[key] + Dict[key]\n",
    "            else:\n",
    "                dict[key] = Dict[key]\n",
    "        \n",
    "    print(dict)"
   ]
  },
  {
   "cell_type": "code",
   "execution_count": null,
   "metadata": {},
   "outputs": [],
   "source": [
    "d1 = {'a': 100, 'b': 200, 'c':300}\n",
    "d2 = {'a': 300, 'b': 200, 'd':400}\n",
    "dict_merge_with_sum([d1, d2])"
   ]
  },
  {
   "cell_type": "markdown",
   "metadata": {},
   "source": [
    "## Exercise 11"
   ]
  },
  {
   "cell_type": "markdown",
   "metadata": {},
   "source": [
    "Write a function `convert_to_palindrome` that takes a string and reorders its letters in such a way that it becomes a palindrome (i.e., it reads the same forwards and backwards). If this is not possible return `IMPOSSIBLE`"
   ]
  },
  {
   "cell_type": "code",
   "execution_count": null,
   "metadata": {},
   "outputs": [],
   "source": [
    "def count_characters(s):\n",
    "    char_count = {}\n",
    "    for char in s:\n",
    "        if char in char_count:\n",
    "            char_count[char] += 1\n",
    "        else:\n",
    "            char_count[char] = 1\n",
    "    return char_count\n",
    "\n",
    "def convert_to_palindrome(s):\n",
    "    letter_count = count_characters(s)\n",
    "    \n",
    "    left_part  = \"\"\n",
    "    right_part = \"\"\n",
    "    middle_char = \"\"\n",
    "    \n",
    "    for letter, occurence in letter_count.items():\n",
    "        if occurence % 2 == 1:\n",
    "            if middle_char:\n",
    "                return \"IMPOSSIBLE\"\n",
    "            middle_char = letter\n",
    "            \n",
    "            if occurence > 1:\n",
    "                for i in range(occurence-1//2):\n",
    "                    left_part += letter\n",
    "                    right_part = letter + right_part\n",
    "        else:\n",
    "            half = occurence // 2\n",
    "            new_group = letter * half\n",
    "            left_part += new_group\n",
    "            right_part = new_group + right_part\n",
    "    \n",
    "    return left_part + middle_char + right_part"
   ]
  },
  {
   "cell_type": "code",
   "execution_count": null,
   "metadata": {},
   "outputs": [],
   "source": [
    "convert_to_palindrome('AAAACACBA')"
   ]
  },
  {
   "cell_type": "code",
   "execution_count": null,
   "metadata": {},
   "outputs": [],
   "source": [
    "convert_to_palindrome('ABCDE')"
   ]
  },
  {
   "cell_type": "code",
   "execution_count": null,
   "metadata": {},
   "outputs": [],
   "source": [
    "#assert (convert_to_palindrome('AAAACACBA') == 'AACABACAA')\n",
    "#assert (convert_to_palindrome('AAAACACBA') == 'IMPOSSIBLE')"
   ]
  },
  {
   "cell_type": "markdown",
   "metadata": {},
   "source": [
    "# Exercise 12"
   ]
  },
  {
   "cell_type": "markdown",
   "metadata": {},
   "source": [
    "Write a function `get_unique_elements` that takes a list and returns another list with only the distinct elements. For example, if you are given the list `[1, 3, 'a', 3, 'cd', 1, 'a']` you should return `[1, 3, 'a', 'cd']`"
   ]
  },
  {
   "cell_type": "code",
   "execution_count": 170,
   "metadata": {},
   "outputs": [],
   "source": [
    "def get_unique_elements(l):\n",
    "    return list(set(l))\n",
    "def get_unique_elements(l):\n",
    "    List = []\n",
    "    for element in l:\n",
    "        if element not in List:\n",
    "            List.append(element)\n",
    "    return List"
   ]
  },
  {
   "cell_type": "code",
   "execution_count": 171,
   "metadata": {},
   "outputs": [
    {
     "data": {
      "text/plain": [
       "[1, 2, 'a', 'g', 5]"
      ]
     },
     "execution_count": 171,
     "metadata": {},
     "output_type": "execute_result"
    }
   ],
   "source": [
    "get_unique_elements([1, 2, 2, 'a', 'a', 'a', 'g', 5])"
   ]
  },
  {
   "cell_type": "code",
   "execution_count": null,
   "metadata": {},
   "outputs": [],
   "source": [
    "assert (get_unique_elements([1, 2, 2, 'a', 'a', 'a', 'g', 5]) == [1, 2, 'a', 'g', 5])"
   ]
  },
  {
   "cell_type": "markdown",
   "metadata": {},
   "source": [
    "# Exercise 13"
   ]
  },
  {
   "cell_type": "markdown",
   "metadata": {},
   "source": [
    "Complete the dictionary `str_to_func` so that the following program will work correctly"
   ]
  },
  {
   "cell_type": "code",
   "execution_count": 150,
   "metadata": {},
   "outputs": [
    {
     "name": "stdout",
     "output_type": "stream",
     "text": [
      "Enter first int2\n",
      "Enter Second int0\n",
      "Enter symbol/\n",
      "Error: {Division by 0}\n"
     ]
    }
   ],
   "source": [
    "def sum(a, b):\n",
    "    return a + b\n",
    "def sub(a, b):\n",
    "    return a - b\n",
    "def mul(a, b):\n",
    "    return a * b\n",
    "def div(a, b):\n",
    "    return a / b\n",
    "def pow(a, b):\n",
    "    return a ** b\n",
    "\n",
    "str_to_func = {\n",
    "    '+': lambda a,b: a+b,\n",
    "    '-': lambda a,b: a-b,\n",
    "    '*': lambda a,b: a*b,\n",
    "    '/': lambda a,b: a / b if b != 0 else 'Error: {Division by 0}'\n",
    "}\n",
    "n1 = int(input('Enter first int'))\n",
    "n2 = int(input('Enter Second int'))\n",
    "op = input('Enter symbol') #possible symbols are +, -, *, /, **\n",
    "print(str_to_func[op](n1, n2))"
   ]
  },
  {
   "cell_type": "markdown",
   "metadata": {},
   "source": [
    "# Exercise 14"
   ]
  },
  {
   "cell_type": "markdown",
   "metadata": {},
   "source": [
    "Using list comprehension, create a list containing only the words longer than `11` characters from the string `s`"
   ]
  },
  {
   "cell_type": "code",
   "execution_count": 169,
   "metadata": {},
   "outputs": [
    {
     "name": "stdout",
     "output_type": "stream",
     "text": [
      "['consequuntur', 'Reprehenderit,', 'Perspiciatis', 'consequuntur!', 'exercitationem']\n"
     ]
    }
   ],
   "source": [
    "s = \"\"\"Lorem ipsum dolor sit amet consectetur adipisicing elit. Maxime mollitia,\n",
    "molestiae quas vel sint commodi repudiandae consequuntur voluptatum laborum\n",
    "numquam blanditiis harum quisquam eius sed odit fugiat iusto fuga praesentium\n",
    "optio, eaque rerum! Provident similique accusantium nemo autem. Veritatis\n",
    "obcaecati tenetur iure eius earum ut molestias architecto voluptate aliquam\n",
    "nihil, eveniet aliquid culpa officia aut! Impedit sit sunt quaerat, odit,\n",
    "tenetur error, harum nesciunt ipsum debitis quas aliquid. Reprehenderit,\n",
    "quia. Quo neque error repudiandae fuga? Ipsa laudantium molestias eos \n",
    "sapiente officiis modi at sunt excepturi expedita sint? Sed quibusdam\n",
    "recusandae alias error harum maxime adipisci amet laborum. Perspiciatis \n",
    "minima nesciunt dolorem! Officiis iure rerum voluptates a cumque velit \n",
    "quibusdam sed amet tempora. Sit laborum ab, eius fugit doloribus tenetur \n",
    "fugiat, temporibus enim commodi iusto libero magni deleniti quod quam \n",
    "consequuntur! Commodi minima excepturi repudiandae velit hic maxime\n",
    "doloremque. Quaerat provident commodi consectetur veniam similique ad \n",
    "earum omnis ipsum saepe, voluptas, hic voluptates pariatur est explicabo \n",
    "fugiat, dolorum eligendi quam cupiditate excepturi mollitia maiores labore \n",
    "suscipit quas? Nulla, placeat. Voluptatem quaerat non architecto ab laudantium\n",
    "modi minima sunt esse temporibus sint culpa, recusandae aliquam numquam \n",
    "totam ratione voluptas quod exercitationem fuga. Possimus quis earum veniam \n",
    "quasi aliquam eligendi, placeat qui corporis!\n",
    "\"\"\"\n",
    "\n",
    "res = [word for word in s.split() if len(word) > 11]\n",
    "\n",
    "# store your answer in the variable res\n",
    "assert(res == ['consequuntur', 'Reprehenderit,', 'Perspiciatis', 'consequuntur!', 'exercitationem'])"
   ]
  },
  {
   "cell_type": "markdown",
   "metadata": {},
   "source": [
    "# Exercise 15"
   ]
  },
  {
   "cell_type": "markdown",
   "metadata": {},
   "source": [
    "The number `1655172` is actually equal to `a * 7 + b * 11`. Can you find `a` and `b`?"
   ]
  },
  {
   "cell_type": "code",
   "execution_count": null,
   "metadata": {},
   "outputs": [],
   "source": [
    "# your code here"
   ]
  }
 ],
 "metadata": {
  "kernelspec": {
   "display_name": "Python 3 (ipykernel)",
   "language": "python",
   "name": "python3"
  },
  "language_info": {
   "codemirror_mode": {
    "name": "ipython",
    "version": 3
   },
   "file_extension": ".py",
   "mimetype": "text/x-python",
   "name": "python",
   "nbconvert_exporter": "python",
   "pygments_lexer": "ipython3",
   "version": "3.10.9"
  },
  "vscode": {
   "interpreter": {
    "hash": "916dbcbb3f70747c44a77c7bcd40155683ae19c65e1c03b4aa3499c5328201f1"
   }
  }
 },
 "nbformat": 4,
 "nbformat_minor": 2
}
